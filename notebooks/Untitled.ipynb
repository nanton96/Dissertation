{
 "cells": [
  {
   "cell_type": "code",
   "execution_count": 24,
   "metadata": {
    "ExecuteTime": {
     "end_time": "2019-06-18T01:03:08.958888Z",
     "start_time": "2019-06-18T01:03:08.953984Z"
    }
   },
   "outputs": [],
   "source": [
    "import sys\n",
    "sys.path.insert(0, '../')\n",
    "import torch\n",
    "from collections import OrderedDict\n",
    "from utils.new_models import EF,Encoder,Forecaster,ConvLSTM"
   ]
  },
  {
   "cell_type": "code",
   "execution_count": 25,
   "metadata": {
    "ExecuteTime": {
     "end_time": "2019-06-18T01:03:29.989475Z",
     "start_time": "2019-06-18T01:03:29.973605Z"
    }
   },
   "outputs": [],
   "source": [
    "def make_layers(block):\n",
    "    layers = []\n",
    "    for layer_name, v in block.items():\n",
    "        if 'pool' in layer_name:\n",
    "            layer = nn.MaxPool2d(kernel_size=v[0], stride=v[1],\n",
    "                                    padding=v[2])\n",
    "            layers.append((layer_name, layer))\n",
    "        elif 'deconv' in layer_name:\n",
    "            transposeConv2d = nn.ConvTranspose2d(in_channels=v[0], out_channels=v[1],\n",
    "                                                 kernel_size=v[2], stride=v[3],\n",
    "                                                 padding=v[4])\n",
    "            layers.append((layer_name, transposeConv2d))\n",
    "            if 'relu' in layer_name:\n",
    "                layers.append(('relu_' + layer_name, nn.ReLU(inplace=True)))\n",
    "            elif 'leaky' in layer_name:\n",
    "                layers.append(('leaky_' + layer_name, nn.LeakyReLU(negative_slope=0.2, inplace=True)))\n",
    "        elif 'conv' in layer_name:\n",
    "            conv2d = nn.Conv2d(in_channels=v[0], out_channels=v[1],\n",
    "                               kernel_size=v[2], stride=v[3],\n",
    "                               padding=v[4])\n",
    "            layers.append((layer_name, conv2d))\n",
    "            if 'relu' in layer_name:\n",
    "                layers.append(('relu_' + layer_name, nn.ReLU(inplace=True)))\n",
    "            elif 'leaky' in layer_name:\n",
    "                layers.append(('leaky_' + layer_name, nn.LeakyReLU(negative_slope=0.2, inplace=True)))\n",
    "        else:\n",
    "            raise NotImplementedError\n",
    "    return nn.Sequential(OrderedDict(layers))\n"
   ]
  },
  {
   "cell_type": "code",
   "execution_count": 26,
   "metadata": {
    "ExecuteTime": {
     "end_time": "2019-06-18T01:03:30.986354Z",
     "start_time": "2019-06-18T01:03:30.817863Z"
    }
   },
   "outputs": [],
   "source": [
    "batch_size = 10\n",
    "encoder_architecture = [\n",
    "    [   OrderedDict({'conv1_leaky_1': [1, 8, 4, 2, 1]}),\n",
    "        OrderedDict({'conv2_leaky_1': [64, 192, 4, 2, 1]}),\n",
    "        OrderedDict({'conv3_leaky_1': [192, 192, 3, 2, 1]}),\n",
    "    ],\n",
    "\n",
    "    [\n",
    "        ConvLSTM(input_channel=8, num_filter=64, b_h_w=(batch_size, 50, 50),\n",
    "                 kernel_size=3, stride=1, padding=1),\n",
    "        ConvLSTM(input_channel=192, num_filter=192, b_h_w=(batch_size, 25, 25),\n",
    "                 kernel_size=3, stride=1, padding=1),\n",
    "        ConvLSTM(input_channel=192, num_filter=192, b_h_w=(batch_size, 13, 13),\n",
    "                 kernel_size=3, stride=1, padding=1),\n",
    "    ]\n",
    "]\n",
    "encoder = Encoder(encoder_architecture[0],encoder_architecture[1])"
   ]
  },
  {
   "cell_type": "code",
   "execution_count": 27,
   "metadata": {
    "ExecuteTime": {
     "end_time": "2019-06-18T01:03:31.834202Z",
     "start_time": "2019-06-18T01:03:31.826169Z"
    }
   },
   "outputs": [
    {
     "data": {
      "text/plain": [
       "Encoder(\n",
       "  (rnn1): ConvLSTM(\n",
       "    (_conv): Conv2d(72, 256, kernel_size=(3, 3), stride=(1, 1), padding=(1, 1))\n",
       "  )\n",
       "  (rnn2): ConvLSTM(\n",
       "    (_conv): Conv2d(384, 768, kernel_size=(3, 3), stride=(1, 1), padding=(1, 1))\n",
       "  )\n",
       "  (rnn3): ConvLSTM(\n",
       "    (_conv): Conv2d(384, 768, kernel_size=(3, 3), stride=(1, 1), padding=(1, 1))\n",
       "  )\n",
       ")"
      ]
     },
     "execution_count": 27,
     "metadata": {},
     "output_type": "execute_result"
    }
   ],
   "source": [
    "encoder"
   ]
  },
  {
   "cell_type": "code",
   "execution_count": 18,
   "metadata": {
    "ExecuteTime": {
     "end_time": "2019-06-18T00:10:11.094822Z",
     "start_time": "2019-06-18T00:10:11.090232Z"
    }
   },
   "outputs": [],
   "source": [
    "a = torch.rand(2,3,3,3,3)"
   ]
  },
  {
   "cell_type": "code",
   "execution_count": 24,
   "metadata": {
    "ExecuteTime": {
     "end_time": "2019-06-18T00:11:00.221824Z",
     "start_time": "2019-06-18T00:11:00.216695Z"
    }
   },
   "outputs": [],
   "source": [
    "mse = torch.sum(((a)**2), (2, 3, 4))"
   ]
  },
  {
   "cell_type": "code",
   "execution_count": 25,
   "metadata": {
    "ExecuteTime": {
     "end_time": "2019-06-18T00:11:00.642318Z",
     "start_time": "2019-06-18T00:11:00.634240Z"
    }
   },
   "outputs": [
    {
     "data": {
      "text/plain": [
       "torch.Size([2, 3])"
      ]
     },
     "execution_count": 25,
     "metadata": {},
     "output_type": "execute_result"
    }
   ],
   "source": [
    "mse.shape"
   ]
  },
  {
   "cell_type": "code",
   "execution_count": 26,
   "metadata": {
    "ExecuteTime": {
     "end_time": "2019-06-18T00:11:02.002830Z",
     "start_time": "2019-06-18T00:11:01.995325Z"
    }
   },
   "outputs": [
    {
     "data": {
      "text/plain": [
       "tensor(8.6029)"
      ]
     },
     "execution_count": 26,
     "metadata": {},
     "output_type": "execute_result"
    }
   ],
   "source": [
    "torch.mean(mse)"
   ]
  },
  {
   "cell_type": "code",
   "execution_count": 27,
   "metadata": {
    "ExecuteTime": {
     "end_time": "2019-06-18T00:11:03.551120Z",
     "start_time": "2019-06-18T00:11:03.545455Z"
    }
   },
   "outputs": [],
   "source": [
    "mse = torch.mean(((a))**2)"
   ]
  },
  {
   "cell_type": "code",
   "execution_count": 28,
   "metadata": {
    "ExecuteTime": {
     "end_time": "2019-06-18T00:11:04.579520Z",
     "start_time": "2019-06-18T00:11:04.570382Z"
    }
   },
   "outputs": [
    {
     "data": {
      "text/plain": [
       "tensor(0.3186)"
      ]
     },
     "execution_count": 28,
     "metadata": {},
     "output_type": "execute_result"
    }
   ],
   "source": [
    "mse"
   ]
  }
 ],
 "metadata": {
  "kernelspec": {
   "display_name": "Python (mlp)",
   "language": "python",
   "name": "mlp"
  },
  "language_info": {
   "codemirror_mode": {
    "name": "ipython",
    "version": 3
   },
   "file_extension": ".py",
   "mimetype": "text/x-python",
   "name": "python",
   "nbconvert_exporter": "python",
   "pygments_lexer": "ipython3",
   "version": "3.6.7"
  },
  "varInspector": {
   "cols": {
    "lenName": 16,
    "lenType": 16,
    "lenVar": 40
   },
   "kernels_config": {
    "python": {
     "delete_cmd_postfix": "",
     "delete_cmd_prefix": "del ",
     "library": "var_list.py",
     "varRefreshCmd": "print(var_dic_list())"
    },
    "r": {
     "delete_cmd_postfix": ") ",
     "delete_cmd_prefix": "rm(",
     "library": "var_list.r",
     "varRefreshCmd": "cat(var_dic_list()) "
    }
   },
   "types_to_exclude": [
    "module",
    "function",
    "builtin_function_or_method",
    "instance",
    "_Feature"
   ],
   "window_display": false
  }
 },
 "nbformat": 4,
 "nbformat_minor": 2
}
