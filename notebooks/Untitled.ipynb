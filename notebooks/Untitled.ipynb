{
 "cells": [
  {
   "cell_type": "code",
   "execution_count": 1,
   "metadata": {
    "ExecuteTime": {
     "end_time": "2019-08-05T05:35:17.360216Z",
     "start_time": "2019-08-05T05:35:16.649338Z"
    }
   },
   "outputs": [],
   "source": [
    "import torch\n",
    "import torch.nn as nn"
   ]
  },
  {
   "cell_type": "code",
   "execution_count": 2,
   "metadata": {
    "ExecuteTime": {
     "end_time": "2019-08-05T05:35:17.375944Z",
     "start_time": "2019-08-05T05:35:17.361842Z"
    }
   },
   "outputs": [],
   "source": [
    "a = torch.randn([5,1,12,100,100])"
   ]
  },
  {
   "cell_type": "code",
   "execution_count": 3,
   "metadata": {
    "ExecuteTime": {
     "end_time": "2019-08-05T05:35:17.383182Z",
     "start_time": "2019-08-05T05:35:17.377873Z"
    }
   },
   "outputs": [],
   "source": [
    "import sys\n",
    "sys.path.append('../')"
   ]
  },
  {
   "cell_type": "code",
   "execution_count": 7,
   "metadata": {
    "ExecuteTime": {
     "end_time": "2019-08-05T05:35:50.542379Z",
     "start_time": "2019-08-05T05:35:50.493958Z"
    }
   },
   "outputs": [],
   "source": [
    "from model_architectures.conv_lstm_shallow.ConvLstmCell import ConvLSTMCell\n",
    "from torch.autograd import Variable\n",
    "from torch.nn import functional as func\n"
   ]
  },
  {
   "cell_type": "code",
   "execution_count": 8,
   "metadata": {
    "ExecuteTime": {
     "end_time": "2019-08-05T05:35:51.523981Z",
     "start_time": "2019-08-05T05:35:51.125009Z"
    }
   },
   "outputs": [],
   "source": [
    "class ConvLSTMModel(nn.Module):\n",
    "\n",
    "    def __init__(self,input_size,seq_start,seq_length, batch_size,use_gpu):\n",
    "        super(ConvLSTMModel,self).__init__()\n",
    "        self.input_dim = 'BSHW' # BATCH_SIZE, SEQUENCE_START, HEIGHT, WIDTH\n",
    "        self.seq_start = seq_start\n",
    "        self.seq_length = seq_length\n",
    "        self.batch_size = batch_size\n",
    "        #declare some parameters that might be used \n",
    "        self.conv_pad = 0\n",
    "        self.conv_kernel_size = 3\n",
    "        self.conv_stride = 1\n",
    "        self.pool_pad = 0\n",
    "        self.pool_kernel_size = 3\n",
    "        self.pool_stride = 3\n",
    "        self.hidden_size = 64\n",
    "        self.size = int((input_size+2*self.conv_pad-(self.conv_kernel_size-1)-1)/self.conv_stride+1)\n",
    "        self.size1 = int((self.size+2*self.pool_pad-(self.pool_kernel_size-1)-1)/self.pool_stride+1)\n",
    "        #define layers\n",
    "        self.use_gpu = use_gpu\n",
    "        self.conv = nn.Conv2d(\n",
    "             in_channels=1,\n",
    "             out_channels=8,\n",
    "             kernel_size=3,\n",
    "             stride=1,\n",
    "             padding=0)\n",
    "        self.pool = nn.MaxPool2d(\n",
    "                     kernel_size=3\n",
    "                     )\n",
    "        self.convlstm1 = ConvLSTMCell(\n",
    "                        shape=[self.size1,self.size1], \n",
    "                        input_channel=8, \n",
    "                        filter_size=3,\n",
    "                        hidden_size=self.hidden_size)\n",
    "        self.convlstm2 = ConvLSTMCell(\n",
    "                        shape=[self.size1,self.size1], \n",
    "                        input_channel=self.hidden_size, \n",
    "                        filter_size=3,\n",
    "                        hidden_size=self.hidden_size)\n",
    "        self.deconv = nn.ConvTranspose2d(\n",
    "                        in_channels=self.hidden_size , \n",
    "                        out_channels=1, \n",
    "                        kernel_size=6,\n",
    "                        stride=3,\n",
    "                        padding=0, \n",
    "                        output_padding=1, \n",
    "                        )\n",
    "        self.relu = func.relu\n",
    "\n",
    "\n",
    "    def forward(self,X):\n",
    "        X_chunked = torch.chunk(X,self.seq_start,dim=1)\n",
    "        X = None\n",
    "        output = [None]*self.seq_length\n",
    "        state_size = [self.batch_size, self.hidden_size]+[self.size1,self.size1]\n",
    "        if self.use_gpu == False:\n",
    "            hidden1 = Variable(torch.zeros(state_size))\n",
    "            cell1 = Variable(torch.zeros(state_size))\n",
    "            hidden2 = Variable(torch.zeros(state_size))\n",
    "            cell2 = Variable(torch.zeros(state_size))\n",
    "        else :\n",
    "            hidden1 = Variable(torch.zeros(state_size)).cuda()\n",
    "            cell1 = Variable(torch.zeros(state_size)).cuda()\n",
    "            hidden2 = Variable(torch.zeros(state_size)).cuda()\n",
    "            cell2 = Variable(torch.zeros(state_size)).cuda()\n",
    "\n",
    "        for i in range(self.seq_start):\n",
    "\n",
    "            output[i] = self.conv(X_chunked[i])\n",
    "            print(output[i].shape)\n",
    "            output[i] = self.pool(output[i])\n",
    "            print(output[i].shape)\n",
    "            hidden1, cell1 = self.convlstm1(output[i],(hidden1,cell1))\n",
    "            print(hidden1.shape)\n",
    "            hidden2, cell2 = self.convlstm2(hidden1,(hidden2,cell2))\n",
    "            print(hidden2.shape)\n",
    "            output[i] = self.deconv(hidden2)\n",
    "            print(output[i].shape)\n",
    "            # output[i] = self.relu(output[i])\n",
    "        \n",
    "        for i in range(self.seq_start,self.seq_length):                                                 \n",
    "            output[i] = self.conv(output[i-1])    \n",
    "            output[i] = self.pool(output[i])\n",
    "            hidden1, cell1 = self.convlstm1(output[i],(hidden1,cell1))\n",
    "            hidden2, cell2 = self.convlstm2(hidden1,(hidden2,cell2))\n",
    "            output[i] = self.deconv(hidden2)\n",
    "            # output[i] = self.relu(output[i])\n",
    "            \n",
    "        out = torch.stack(output[self.seq_start:]).squeeze()\n",
    "        return out.permute(1,0,2,3)"
   ]
  },
  {
   "cell_type": "code",
   "execution_count": 9,
   "metadata": {
    "ExecuteTime": {
     "end_time": "2019-08-05T05:35:53.368261Z",
     "start_time": "2019-08-05T05:35:51.747449Z"
    }
   },
   "outputs": [
    {
     "name": "stdout",
     "output_type": "stream",
     "text": [
      "torch.Size([5, 8, 98, 98])\n",
      "torch.Size([5, 8, 32, 32])\n",
      "torch.Size([5, 64, 32, 32])\n",
      "torch.Size([5, 64, 32, 32])\n",
      "torch.Size([5, 1, 100, 100])\n",
      "torch.Size([5, 8, 98, 98])\n",
      "torch.Size([5, 8, 32, 32])\n"
     ]
    },
    {
     "name": "stderr",
     "output_type": "stream",
     "text": [
      "/usr/local/lib/python3.5/dist-packages/torch/nn/functional.py:1332: UserWarning: nn.functional.sigmoid is deprecated. Use torch.sigmoid instead.\n",
      "  warnings.warn(\"nn.functional.sigmoid is deprecated. Use torch.sigmoid instead.\")\n",
      "/usr/local/lib/python3.5/dist-packages/torch/nn/functional.py:1320: UserWarning: nn.functional.tanh is deprecated. Use torch.tanh instead.\n",
      "  warnings.warn(\"nn.functional.tanh is deprecated. Use torch.tanh instead.\")\n"
     ]
    },
    {
     "name": "stdout",
     "output_type": "stream",
     "text": [
      "torch.Size([5, 64, 32, 32])\n",
      "torch.Size([5, 64, 32, 32])\n",
      "torch.Size([5, 1, 100, 100])\n",
      "torch.Size([5, 8, 98, 98])\n",
      "torch.Size([5, 8, 32, 32])\n",
      "torch.Size([5, 64, 32, 32])\n",
      "torch.Size([5, 64, 32, 32])\n",
      "torch.Size([5, 1, 100, 100])\n",
      "torch.Size([5, 8, 98, 98])\n",
      "torch.Size([5, 8, 32, 32])\n",
      "torch.Size([5, 64, 32, 32])\n",
      "torch.Size([5, 64, 32, 32])\n",
      "torch.Size([5, 1, 100, 100])\n",
      "torch.Size([5, 8, 98, 98])\n",
      "torch.Size([5, 8, 32, 32])\n",
      "torch.Size([5, 64, 32, 32])\n",
      "torch.Size([5, 64, 32, 32])\n",
      "torch.Size([5, 1, 100, 100])\n",
      "torch.Size([5, 8, 98, 98])\n",
      "torch.Size([5, 8, 32, 32])\n",
      "torch.Size([5, 64, 32, 32])\n",
      "torch.Size([5, 64, 32, 32])\n",
      "torch.Size([5, 1, 100, 100])\n",
      "torch.Size([5, 8, 98, 98])\n",
      "torch.Size([5, 8, 32, 32])\n",
      "torch.Size([5, 64, 32, 32])\n",
      "torch.Size([5, 64, 32, 32])\n",
      "torch.Size([5, 1, 100, 100])\n",
      "torch.Size([5, 8, 98, 98])\n",
      "torch.Size([5, 8, 32, 32])\n",
      "torch.Size([5, 64, 32, 32])\n",
      "torch.Size([5, 64, 32, 32])\n",
      "torch.Size([5, 1, 100, 100])\n",
      "torch.Size([5, 8, 98, 98])\n",
      "torch.Size([5, 8, 32, 32])\n",
      "torch.Size([5, 64, 32, 32])\n",
      "torch.Size([5, 64, 32, 32])\n",
      "torch.Size([5, 1, 100, 100])\n",
      "torch.Size([5, 8, 98, 98])\n",
      "torch.Size([5, 8, 32, 32])\n",
      "torch.Size([5, 64, 32, 32])\n",
      "torch.Size([5, 64, 32, 32])\n",
      "torch.Size([5, 1, 100, 100])\n",
      "torch.Size([5, 8, 98, 98])\n",
      "torch.Size([5, 8, 32, 32])\n",
      "torch.Size([5, 64, 32, 32])\n",
      "torch.Size([5, 64, 32, 32])\n",
      "torch.Size([5, 1, 100, 100])\n",
      "torch.Size([5, 8, 98, 98])\n",
      "torch.Size([5, 8, 32, 32])\n",
      "torch.Size([5, 64, 32, 32])\n",
      "torch.Size([5, 64, 32, 32])\n",
      "torch.Size([5, 1, 100, 100])\n"
     ]
    }
   ],
   "source": [
    "model = ConvLSTMModel(100,12,22,5,False)\n",
    "a = torch.randn([5,12,100,100])\n",
    "state_size = [model.batch_size, model.hidden_size]+[model.size1,model.size1]\n",
    "with torch.no_grad():\n",
    "    model.forward(a)"
   ]
  },
  {
   "cell_type": "code",
   "execution_count": null,
   "metadata": {
    "ExecuteTime": {
     "end_time": "2019-08-05T05:35:18.067125Z",
     "start_time": "2019-08-05T05:35:16.670Z"
    }
   },
   "outputs": [],
   "source": [
    "conv1   = nn.Conv3d(in_channels=1,out_channels=64,kernel_size=5,stride=1,padding=2)\n",
    "conv2   = nn.Conv3d(in_channels=64,out_channels=128,kernel_size=3,stride=(1,2,2),padding=1)\n",
    "conv3   = nn.Conv3d(in_channels=128,out_channels=128,kernel_size=3,stride=(2,2,2),padding=1)\n",
    "deconv1 = nn.ConvTranspose3d(in_channels=128,out_channels=128,kernel_size=(2,3,3),stride=(2,2,2),padding=1,output_padding=1)\n",
    "deconv2 = nn.ConvTranspose3d(in_channels=128,out_channels=64,kernel_size=(2,4,4),stride=(1,2,2),padding=1,output_padding=0)\n",
    "deconv3 = nn.ConvTranspose3d(in_channels=64,out_channels=1,kernel_size=5,stride=1,padding=2,output_padding=0)"
   ]
  },
  {
   "cell_type": "code",
   "execution_count": null,
   "metadata": {
    "ExecuteTime": {
     "end_time": "2019-08-05T05:35:18.069096Z",
     "start_time": "2019-08-05T05:35:16.672Z"
    }
   },
   "outputs": [],
   "source": [
    "with torch.no_grad():\n",
    "    a = conv1(a)\n",
    "    print(a.shape)\n",
    "    a = conv2(a)\n",
    "    print(a.shape)\n",
    "    a = conv3(a)\n",
    "    print(a.shape)\n",
    "    a = deconv1(a)\n",
    "    print(a.shape)\n",
    "    a = deconv2(a)\n",
    "    print(a.shape)\n",
    "    a = deconv3(a)\n",
    "    print(a.shape)"
   ]
  }
 ],
 "metadata": {
  "kernelspec": {
   "display_name": "Python 3",
   "language": "python",
   "name": "python3"
  },
  "language_info": {
   "codemirror_mode": {
    "name": "ipython",
    "version": 3
   },
   "file_extension": ".py",
   "mimetype": "text/x-python",
   "name": "python",
   "nbconvert_exporter": "python",
   "pygments_lexer": "ipython3",
   "version": "3.5.2"
  },
  "varInspector": {
   "cols": {
    "lenName": 16,
    "lenType": 16,
    "lenVar": 40
   },
   "kernels_config": {
    "python": {
     "delete_cmd_postfix": "",
     "delete_cmd_prefix": "del ",
     "library": "var_list.py",
     "varRefreshCmd": "print(var_dic_list())"
    },
    "r": {
     "delete_cmd_postfix": ") ",
     "delete_cmd_prefix": "rm(",
     "library": "var_list.r",
     "varRefreshCmd": "cat(var_dic_list()) "
    }
   },
   "types_to_exclude": [
    "module",
    "function",
    "builtin_function_or_method",
    "instance",
    "_Feature"
   ],
   "window_display": false
  }
 },
 "nbformat": 4,
 "nbformat_minor": 2
}
