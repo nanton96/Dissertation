{
 "cells": [
  {
   "cell_type": "code",
   "execution_count": 23,
   "metadata": {
    "ExecuteTime": {
     "end_time": "2019-07-19T20:30:16.754538Z",
     "start_time": "2019-07-19T20:30:16.745289Z"
    }
   },
   "outputs": [],
   "source": [
    "import torch\n",
    "import torch.nn as nn"
   ]
  },
  {
   "cell_type": "code",
   "execution_count": 34,
   "metadata": {
    "ExecuteTime": {
     "end_time": "2019-07-19T20:32:45.309775Z",
     "start_time": "2019-07-19T20:32:45.287667Z"
    }
   },
   "outputs": [],
   "source": [
    "x = torch.randn([5,64,32,32])"
   ]
  },
  {
   "cell_type": "code",
   "execution_count": 35,
   "metadata": {
    "ExecuteTime": {
     "end_time": "2019-07-19T20:32:46.236565Z",
     "start_time": "2019-07-19T20:32:46.226315Z"
    },
    "code_folding": []
   },
   "outputs": [],
   "source": [
    "import torch\n",
    "import torch.nn as nn\n",
    "\n",
    "class GHU(nn.Module):\n",
    "    def __init__(self, filter_size, num_features,input_channels):\n",
    "        \"\"\"Initialize the Gradient Highway Unit.\n",
    "        \"\"\"\n",
    "        super(GHU,self).__init__()\n",
    "        self.filter_size = filter_size\n",
    "        self.num_features = num_features\n",
    "        self.input_channels = input_channels\n",
    "        self.conv_z = nn.Conv2d(in_channels = self.num_features, \n",
    "                                out_channels = self.num_features*2,\n",
    "                                kernel_size =self.filter_size,\n",
    "                                stride=1,\n",
    "                                padding=1)\n",
    "        self.conv_x = nn.Conv2d(in_channels=self.input_channels,\n",
    "                                out_channels = self.num_features*2,\n",
    "                                kernel_size =self.filter_size,\n",
    "                                stride=1,\n",
    "                                padding=1)\n",
    "        \n",
    "        \n",
    "    def init_state(self, inputs, num_features):\n",
    "        dims = len(inputs.shape)\n",
    "        if dims == 4:\n",
    "            batch = inputs.shape[0]\n",
    "            height = inputs.shape[2]\n",
    "            width = inputs.shape[3]\n",
    "        else:\n",
    "            raise ValueError('input tensor should be rank 4.')\n",
    "        return torch.zeros([batch, num_features, height, width])\n",
    "\n",
    "    def forward(self,x,z):\n",
    "        if z is None:\n",
    "            z = self.init_state(x, self.num_features)\n",
    "        z_concat = self.conv_z(z)\n",
    "\n",
    "        x_concat = self.conv_x(x)\n",
    "        # if self.layer_norm:\n",
    "        #     x_concat = tensor_layer_norm(x_concat, 'input_to_state')\n",
    "\n",
    "        gates = x_concat + z_concat\n",
    "        p, u = torch.chunk(gates, 2, dim=1)\n",
    "        p = torch.tanh(p)\n",
    "        u = torch.sigmoid(u)\n",
    "        z_new = u * p + (1-u) * z\n",
    "        return z_new"
   ]
  },
  {
   "cell_type": "code",
   "execution_count": 36,
   "metadata": {
    "ExecuteTime": {
     "end_time": "2019-07-19T20:32:47.103195Z",
     "start_time": "2019-07-19T20:32:47.098653Z"
    }
   },
   "outputs": [],
   "source": [
    "ghu = GHU(3,64,64)"
   ]
  },
  {
   "cell_type": "code",
   "execution_count": 38,
   "metadata": {
    "ExecuteTime": {
     "end_time": "2019-07-19T20:32:52.030228Z",
     "start_time": "2019-07-19T20:32:51.913092Z"
    }
   },
   "outputs": [
    {
     "data": {
      "text/plain": [
       "torch.Size([5, 64, 32, 32])"
      ]
     },
     "execution_count": 38,
     "metadata": {},
     "output_type": "execute_result"
    }
   ],
   "source": [
    "ghu(x,None).shape"
   ]
  },
  {
   "cell_type": "code",
   "execution_count": null,
   "metadata": {},
   "outputs": [],
   "source": []
  }
 ],
 "metadata": {
  "kernelspec": {
   "display_name": "Python (mlp)",
   "language": "python",
   "name": "mlp"
  },
  "language_info": {
   "codemirror_mode": {
    "name": "ipython",
    "version": 3
   },
   "file_extension": ".py",
   "mimetype": "text/x-python",
   "name": "python",
   "nbconvert_exporter": "python",
   "pygments_lexer": "ipython3",
   "version": "3.6.7"
  },
  "varInspector": {
   "cols": {
    "lenName": 16,
    "lenType": 16,
    "lenVar": 40
   },
   "kernels_config": {
    "python": {
     "delete_cmd_postfix": "",
     "delete_cmd_prefix": "del ",
     "library": "var_list.py",
     "varRefreshCmd": "print(var_dic_list())"
    },
    "r": {
     "delete_cmd_postfix": ") ",
     "delete_cmd_prefix": "rm(",
     "library": "var_list.r",
     "varRefreshCmd": "cat(var_dic_list()) "
    }
   },
   "types_to_exclude": [
    "module",
    "function",
    "builtin_function_or_method",
    "instance",
    "_Feature"
   ],
   "window_display": false
  }
 },
 "nbformat": 4,
 "nbformat_minor": 2
}
